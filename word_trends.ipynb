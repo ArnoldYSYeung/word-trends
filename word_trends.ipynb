{
 "cells": [
  {
   "cell_type": "markdown",
   "metadata": {},
   "source": [
    "# Word Trends\n",
    "In this notebook, we parse existing text within articles to measure the trends of words. \n",
    "\n",
    "There are two main classes used: `TRArticles` for raw data prior to reformatting and `Articles` for data conforming to our standard format."
   ]
  },
  {
   "cell_type": "code",
   "execution_count": 1,
   "metadata": {},
   "outputs": [],
   "source": [
    "import pandas as pd\n",
    "from IPython.display import display \n",
    "import gc\n",
    "import matplotlib.pyplot as plt\n",
    "\n",
    "from tr_preprocessing import *\n",
    "from articles import *\n",
    "from utils import *"
   ]
  },
  {
   "cell_type": "markdown",
   "metadata": {},
   "source": [
    "## Key Parameters\n",
    "For our experiment, we set the following parameters.  Below includes:\n",
    "- whether to load existing data or complete the reformatting/pre-processing steps (`load_data`)\n",
    "- location of key files (`save_dir`, `csv_file`, `stopwords_files`, `reformatted_df_file`, `tokenized_df_file`, `tokenized_df_file`, `trend_score_files`)\n",
    "- the fields used to compute the trend scores (and the importance weight of each field) (`text_columns`, `column_weights`)\n",
    "- language to operate data in (`languages`)\n",
    "- a list of markers indicating non-article entries (i.e., internal calls) within the dataset (`headline_internal_calls`, `product_internal_calls`)\n",
    "- reformatting parameters to transform the dataset from `TRArticles` to `Articles` (`drop_cols`, `reformat_dict`)"
   ]
  },
  {
   "cell_type": "code",
   "execution_count": 2,
   "metadata": {},
   "outputs": [],
   "source": [
    "# Key parameters\n",
    "load_data = False\n",
    "verbose = True\n",
    "\n",
    "csv_file = './rna002_RTRS_2013_06.csv'\n",
    "stopwords_files = ['./StopWords', './AddStopWords']  # generic stop words and stop words specific to this dataset\n",
    "save_dir = './data'\n",
    "reformatted_df_file = 'reformatted_df.csv'\n",
    "tokenized_df_file = 'tokenized_df.csv'\n",
    "trend_score_files = ['2013-06-16_2013-06-30_trend_count_score.json', \n",
    "                     '2013-06-16_2013-06-30_trend_text_score.json',\n",
    "                     '2013-06-16_2013-06-30_trend_norm_score.json']\n",
    " \n",
    "text_columns = ['TITLE'] # fields to compute trend scores with\n",
    "column_weights = [1]\n",
    "\"\"\"\n",
    "text_columns = ['TITLE', 'TEXT'] # fields to compute trend scores with\n",
    "column_weights = [5, 1]\n",
    "\"\"\"\n",
    "\n",
    "languages = ['EN']\n",
    "headline_internal_calls = [\"Test, Please Ignore\", \"SERVICE ALERT\", \"THIS IS A TEST MESSAGE\"]\n",
    "product_internal_calls = [\"XX\", \"TEST\"]\n",
    "\n",
    "drop_cols = ['EVENT_TYPE', 'PNAC', 'STORY_DATE_TIME', 'TAKE_DATE_TIME', 'STORY_TYPE', 'HEADLINE_SUBTYPE', \n",
    "             'NAMED_ITEMS', 'TABULAR_FLAG', 'ATTRIBUTION', 'RELATED_RICS']\n",
    "\n",
    "reformat_dict = {'DATE': 'DATE',\n",
    "                 'TIME': 'TIME',\n",
    "                 'UNIQUE_STORY_INDEX': 'ID',\n",
    "                 'HEADLINE_ALERT_TEXT': 'TITLE',\n",
    "                 'ACCUMULATED_STORY_TEXT': 'TEXT',\n",
    "                 'TAKE_TEXT': 'TEXT2',\n",
    "                 'PRODUCTS': 'PLATFORMS',\n",
    "                 'TOPICS': 'TOPICS',\n",
    "                 'LANGUAGE': 'LANGUAGE',\n",
    "                }"
   ]
  },
  {
   "cell_type": "markdown",
   "metadata": {},
   "source": [
    "# Reformat Data"
   ]
  },
  {
   "cell_type": "markdown",
   "metadata": {},
   "source": [
    "We load the dataset from its original raw .csv file. This dataset is then used to create an `TRArticles` object, which would be used to reformat the data."
   ]
  },
  {
   "cell_type": "code",
   "execution_count": 3,
   "metadata": {},
   "outputs": [],
   "source": [
    "dataset = pd.read_csv(csv_file)"
   ]
  },
  {
   "cell_type": "code",
   "execution_count": 4,
   "metadata": {},
   "outputs": [],
   "source": [
    "tr_articles = TRArticles(dataset, languages, verbose)"
   ]
  },
  {
   "cell_type": "markdown",
   "metadata": {},
   "source": [
    "We take the following reformatting steps:\n",
    "- filter by language\n",
    "- remove articles with duplicate entries (we aggregate text from `HEADLINE_ALERT_TEXT`, `ACCUMULATED_STORY_TEXT`, and `TAKE_TEXT` across all entries with the same `UNIQUE_STORY_INDEX`)\n",
    "- remove internal calls which do not correspond to articles\n",
    "- convert `PRODUCTS` and `TOPICS` to be a set of strings (instead of a long string)\n",
    "- combine `ACCUMULATED_STORY_TEXT` and `TAKE_TEXT` into a single field (From the dataset, it is unclear how these two fields differ. We assume that they are similar and can be concatenated.)\n",
    "- rename the fields to correspond to the `Articles` fields and remove unnecessary fields"
   ]
  },
  {
   "cell_type": "code",
   "execution_count": 5,
   "metadata": {},
   "outputs": [
    {
     "name": "stdout",
     "output_type": "stream",
     "text": [
      "Filtering for the following languages:  ['EN']\n",
      "185747  rows ( 44.02 %) were removed.\n",
      "Removing duplicate IDs based on:  UNIQUE_STORY_INDEX\n",
      "136971  rows ( 57.98 %) were removed.\n",
      "Removing internal calls for  HEADLINE_ALERT_TEXT .\n",
      "7030  rows ( 7.08 %) were removed.\n",
      "Removing internal calls for  PRODUCTS .\n",
      "895  rows ( 0.97 %) were removed.\n",
      "Concatenating columns:  ['ACCUMULATED_STORY_TEXT', 'TAKE_TEXT']  to  ACCUMULATED_STORY_TEXT\n",
      "Reformatting dataframe...\n"
     ]
    }
   ],
   "source": [
    "if load_data:\n",
    "    tr_articles.load_dataframe(save_dir+'/'+reformatted_df_file)\n",
    "    reformatted_df = tr_articles.dataframe\n",
    "else:\n",
    "    # filter for only English\n",
    "    tr_articles.filter_language()\n",
    "\n",
    "    # remove duplicate entries\n",
    "    tr_articles.remove_duplicate_ids('UNIQUE_STORY_INDEX', ['HEADLINE_ALERT_TEXT','ACCUMULATED_STORY_TEXT', 'TAKE_TEXT'])\n",
    "\n",
    "    # remove internal calls irrelevant to articles (e.g., test, system alerts)\n",
    "    tr_articles.remove_internal_calls('HEADLINE_ALERT_TEXT', headline_internal_calls)\n",
    "    tr_articles.remove_internal_calls('PRODUCTS', product_internal_calls)\n",
    "\n",
    "    # reformat the dataframe\n",
    "    tr_articles.convert_string_to_set(['PRODUCTS', 'TOPICS'])\n",
    "    tr_articles.concatenate_columns(['ACCUMULATED_STORY_TEXT', 'TAKE_TEXT'], remove=True)\n",
    "    reformatted_df = tr_articles.reformat_dataframe(reformat_dict, drop_cols, keep=False)"
   ]
  },
  {
   "cell_type": "code",
   "execution_count": 6,
   "metadata": {
    "scrolled": false
   },
   "outputs": [
    {
     "data": {
      "text/plain": [
       "20"
      ]
     },
     "execution_count": 6,
     "metadata": {},
     "output_type": "execute_result"
    }
   ],
   "source": [
    "reformatted_df.to_csv(save_dir+'/'+reformatted_df_file)\n",
    "del tr_articles\n",
    "del dataset\n",
    "gc.collect()"
   ]
  },
  {
   "cell_type": "markdown",
   "metadata": {},
   "source": [
    "# Pre-Process Data\n",
    "Output from `TRArticles.reformat_dataframe()` may be used to create an `Articles` object.  This object allows pre-processing of the data, as well as computes trend scores for the words within the data."
   ]
  },
  {
   "cell_type": "markdown",
   "metadata": {},
   "source": [
    "We first load stop words from external files.  These words would be removed and would not be used to compute trend scores."
   ]
  },
  {
   "cell_type": "code",
   "execution_count": 7,
   "metadata": {},
   "outputs": [],
   "source": [
    "# Load stop words\n",
    "stop_words = []\n",
    "for file in stopwords_files:\n",
    "    stop_words += get_words_from_file(file)"
   ]
  },
  {
   "cell_type": "markdown",
   "metadata": {},
   "source": [
    "We create the `Articles` object using the reformatted data obtained from the `TRArticles` object."
   ]
  },
  {
   "cell_type": "code",
   "execution_count": 8,
   "metadata": {},
   "outputs": [],
   "source": [
    "articles = Articles(reformatted_df, stop_words=stop_words, verbose=verbose)"
   ]
  },
  {
   "cell_type": "markdown",
   "metadata": {},
   "source": [
    "We pre-process the data with the following procedure.  Note that the order matters and certain steps (e.g., tokenization) must be completed prior to other steps.\n",
    "- remove \"noise\" (e.g., special characters, URLs, HTML characters) within our text fields\n",
    "- remove punctuations by replacing them with whitespace\n",
    "- tokenize the text within the text fields\n",
    "- remove stop words\n",
    "- add Part-of-Speech markers (to be implemented in future versions)\n",
    "- lemmatize tokens (to be implemented in future versions)"
   ]
  },
  {
   "cell_type": "code",
   "execution_count": 9,
   "metadata": {},
   "outputs": [
    {
     "name": "stdout",
     "output_type": "stream",
     "text": [
      "Removing \\n and \\t...\n",
      "Converting HTML characters to Unicode...\n",
      "Removing URLs...\n",
      "Replacing punctuations with whitespace...\n",
      "Tokenizing...\n",
      "Removing stop words...\n"
     ]
    }
   ],
   "source": [
    "if load_data:\n",
    "    articles.load_dataframe(save_dir+'/'+tokenized_df_file)\n",
    "else:\n",
    "    articles.remove_noise(text_columns)\n",
    "    articles.replace_punctuations(text_columns, replacement=\" \")\n",
    "    articles.tokenize(text_columns, lower=True)\n",
    "    articles.remove_stop_words(text_columns)"
   ]
  },
  {
   "cell_type": "markdown",
   "metadata": {},
   "source": [
    "# Compute Trend Scores\n",
    "Now that the data is pre-processed and tokenized, we may compute the trend scores for each word. `Articles.compute_trends()` compute 3 trend scores for each token: \n",
    "- `count` based on total number of occurrence of the token \n",
    "- `text` based on total articles with the token occurring\n",
    "- `norm` based the importance of the token within each article.\n",
    "\n",
    "A `column_weights` argument may be inputted with `text_columns` to indicate the relative importance of each field to the trend score. The trend score computed would reflect this weighting of importance. `Articles.compute_trends()` also allow observing the trends within a set date range. Future implementations would also include filtering articles based on `PRODUCTS` and `TOPICS`.\n",
    "\n",
    "After computing the trend scores of each word, we rank the tokens descendingly based on their scores."
   ]
  },
  {
   "cell_type": "code",
   "execution_count": 10,
   "metadata": {},
   "outputs": [
    {
     "name": "stdout",
     "output_type": "stream",
     "text": [
      "Computing trend...\n",
      "Date range  2013-06-23   2013-06-30\n"
     ]
    }
   ],
   "source": [
    "if load_data:\n",
    "    articles.load_trend_scores('count', file=save_dir+'/'+trend_score_files[0], date_prefix=True)\n",
    "    articles.load_trend_scores('text', file=save_dir+'/'+trend_score_files[1], date_prefix=True)\n",
    "    articles.load_trend_scores('norm', file=save_dir+'/'+trend_score_files[2], date_prefix=True)\n",
    "else:\n",
    "    articles.compute_trend(text_columns, column_weights, date_range=['2013-06-23', '2013-06-30'])\n",
    "articles.rank_tokens()"
   ]
  },
  {
   "cell_type": "code",
   "execution_count": 11,
   "metadata": {},
   "outputs": [],
   "source": [
    "articles.save_dataframe(save_loc=save_dir, name=tokenized_df_file)\n",
    "articles.save_trend_scores(save_dir, date_prefix=True)"
   ]
  },
  {
   "cell_type": "markdown",
   "metadata": {},
   "source": [
    "# Results\n",
    "Now that the trend scores of each word is computed, we may observe the top (or bottom) trending words within the specified date range."
   ]
  },
  {
   "cell_type": "markdown",
   "metadata": {},
   "source": [
    "We get the top (or bottom) trending words using `Articles.get_trending_words()`.  Note that a method (`count`, `norm`, or `text`) is specified. "
   ]
  },
  {
   "cell_type": "code",
   "execution_count": 12,
   "metadata": {},
   "outputs": [
    {
     "data": {
      "text/plain": [
       "[('shares', 2597.0),\n",
       " ('order', 1928.0),\n",
       " ('side', 1902.0),\n",
       " ('imbalance', 1896.0),\n",
       " ('nyse', 1878.0),\n",
       " ('sell', 1257.0),\n",
       " ('buy', 1236.0),\n",
       " ('pct', 1060.0),\n",
       " ('buzz', 909.0),\n",
       " ('insider', 888.0),\n",
       " ('says', 884.0),\n",
       " ('price', 782.0),\n",
       " ('rating', 719.0),\n",
       " ('target', 680.0),\n",
       " ('bank', 654.0),\n",
       " ('page', 645.0),\n",
       " ('results', 626.0),\n",
       " ('stocks', 607.0),\n",
       " ('markets', 579.0),\n",
       " ('power', 565.0)]"
      ]
     },
     "execution_count": 12,
     "metadata": {},
     "output_type": "execute_result"
    }
   ],
   "source": [
    "articles.get_trending_words('count', n=20, top=True)"
   ]
  },
  {
   "cell_type": "markdown",
   "metadata": {},
   "source": [
    "We can now plot the top (or bottom) most trending words, as well as their trend score computed with the specified method."
   ]
  },
  {
   "cell_type": "code",
   "execution_count": 13,
   "metadata": {
    "scrolled": true
   },
   "outputs": [
    {
     "data": {
      "image/png": "[encoded data removed]",
      "text/plain": [
       "<Figure size 432x288 with 1 Axes>"
      ]
     },
     "metadata": {
      "needs_background": "light"
     },
     "output_type": "display_data"
    }
   ],
   "source": [
    "articles.plot_trends('norm', n=15, top=True)"
   ]
  },
  {
   "cell_type": "code",
   "execution_count": null,
   "metadata": {},
   "outputs": [],
   "source": []
  }
 ],
 "metadata": {
  "kernelspec": {
   "display_name": "Python 3",
   "language": "python",
   "name": "python3"
  },
  "language_info": {
   "codemirror_mode": {
    "name": "ipython",
    "version": 3
   },
   "file_extension": ".py",
   "mimetype": "text/x-python",
   "name": "python",
   "nbconvert_exporter": "python",
   "pygments_lexer": "ipython3",
   "version": "3.7.3"
  }
 },
 "nbformat": 4,
 "nbformat_minor": 2
}
